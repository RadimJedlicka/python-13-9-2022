{
 "cells": [
  {
   "cell_type": "markdown",
   "metadata": {
    "id": "_eCoasC13bIE"
   },
   "source": [
    "<h6 align=right>Python akademie - lekce 8 - 1.11.2022</h6>"
   ]
  },
  {
   "cell_type": "markdown",
   "metadata": {
    "id": "InfLDuCp3evI"
   },
   "source": [
    "# <h1 align=center><font color=darkblue size=32><b> if \\_\\_name__ == \"\\_\\_main__\":</font></h1>\n",
    "\n",
    "---\n",
    "\n",
    "<br>\n",
    "\n",
    "[Official documentation](https://docs.python.org/3/library/__main__.html)\n",
    "\n",
    "[Real Python](https://realpython.com/if-name-main-python/)"
   ]
  },
  {
   "cell_type": "markdown",
   "metadata": {
    "id": "ZhPG6A7l3PXi"
   },
   "source": [
    "<p align=center><b>Ve zkratce: tato kouzelná formule vám dovolí spustit kód jako skript, ale ne v případě, že jej importujete jako modul.**\n"
   ]
  }
 ],
 "metadata": {
  "colab": {
   "provenance": []
  },
  "kernelspec": {
   "display_name": "Python 3 (ipykernel)",
   "language": "python",
   "name": "python3"
  },
  "language_info": {
   "codemirror_mode": {
    "name": "ipython",
    "version": 3
   },
   "file_extension": ".py",
   "mimetype": "text/x-python",
   "name": "python",
   "nbconvert_exporter": "python",
   "pygments_lexer": "ipython3",
   "version": "3.10.0"
  }
 },
 "nbformat": 4,
 "nbformat_minor": 1
}
