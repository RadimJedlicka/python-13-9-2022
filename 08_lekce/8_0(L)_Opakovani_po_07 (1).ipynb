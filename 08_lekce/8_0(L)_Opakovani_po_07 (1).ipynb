{
 "cells": [
  {
   "cell_type": "markdown",
   "metadata": {
    "id": "siDazH9ArrAW"
   },
   "source": [
    "<h6 align=right>Python akademie - lekce 8 - 1.11.2022</h6>"
   ]
  },
  {
   "cell_type": "markdown",
   "metadata": {
    "id": "nOQTEM8sr5uW"
   },
   "source": [
    "# <h1 align=center><font color=darkblue size=36><b> ♻ Opakování 7. lekce</font></h1>\n",
    "\n",
    "---\n",
    "\n",
    "<br>"
   ]
  },
  {
   "cell_type": "markdown",
   "metadata": {
    "id": "h91ZjMSesQNs"
   },
   "source": [
    "<br>\n",
    "\n",
    "# <font color=darkblue> ▶ **Vytvořte jednoduchou funkci pro součet dvou čísel** \n"
   ]
  },
  {
   "cell_type": "code",
   "execution_count": 1,
   "metadata": {},
   "outputs": [],
   "source": [
    "def secti_dve_cisla(x, y):\n",
    "    vysledek = x + y\n",
    "    return vysledek"
   ]
  },
  {
   "cell_type": "code",
   "execution_count": 2,
   "metadata": {},
   "outputs": [
    {
     "data": {
      "text/plain": [
       "8"
      ]
     },
     "execution_count": 2,
     "metadata": {},
     "output_type": "execute_result"
    }
   ],
   "source": [
    "x = secti_dve_cisla(2, 6)\n",
    "x"
   ]
  },
  {
   "cell_type": "code",
   "execution_count": null,
   "metadata": {},
   "outputs": [],
   "source": [
    "def secti_dve_cisla(x, y): \n",
    "    return x + y"
   ]
  },
  {
   "cell_type": "markdown",
   "metadata": {
    "id": "mBC4cxpfsbd5"
   },
   "source": [
    "<details>\n",
    "  <summary>❓ Klikni zde pro vysvětlivky</summary>\n",
    "\n",
    "Jména parametrů a funkce lze samozřejmě přizpůsobit.\n",
    "<br>\n",
    "\n",
    "```python\n",
    "def scitani(x, y):\n",
    "    return x + y\n",
    "\n",
    "vysledek = scitani(100, 300)\n",
    "print(vysledek)\n",
    "```\n",
    "    \n",
    "```python\n",
    "def soucet_dvou_cisel(x, y):\n",
    "    return x + y\n",
    "\n",
    "print(vysledek := soucet_dvou_cisel(2, 3))\n",
    "print(vysledek := soucet_dvou_cisel(22, 33)) \n",
    "```\n",
    "\n",
    "<br>\n",
    "\n",
    "</details>\n",
    "\n",
    "---\n"
   ]
  },
  {
   "cell_type": "markdown",
   "metadata": {
    "id": "HZjoiB5rtaag"
   },
   "source": [
    "<br>\n",
    "\n",
    "# <font color=darkblue> ▶ **Jde o správně definovanou funkci?** \n",
    "\n",
    "```python\n",
    "import datetime\n",
    "\n",
    "\n",
    "def prispevek(mail, zprava):\n",
    "    cas = datetime.datetime.now()\n",
    "    formatovany_cas = cas.strftime(\"%H:%M:%S\")\n",
    "    jmeno = mail.split(\"@\")[0]\n",
    "    return f\"{formatovany_cas}-{jmeno.capitalize()}: {zprava}\"\n",
    "```"
   ]
  },
  {
   "cell_type": "code",
   "execution_count": 5,
   "metadata": {},
   "outputs": [],
   "source": [
    "import datetime\n",
    "\n",
    "def naformatuj_cas():\n",
    "    aktualni_cas = datetime.datetime.now()\n",
    "    return aktualni_cas.strftime(\"%H:%M:%S\")\n",
    "\n",
    "def vytvor_prezdivku(email):\n",
    "    return email.split(\"@\")[0]\n",
    "\n",
    "def prispevek(email, zprava):\n",
    "    formatovany_cas = naformatuj_cas()\n",
    "    jmeno = vytvor_prezdivku(email)\n",
    "    return f'{formatovany_cas} {jmeno} {zprava}'"
   ]
  },
  {
   "cell_type": "code",
   "execution_count": 6,
   "metadata": {},
   "outputs": [
    {
     "data": {
      "text/plain": [
       "'18:16:48 radim Ahoj, uzivateli'"
      ]
     },
     "execution_count": 6,
     "metadata": {},
     "output_type": "execute_result"
    }
   ],
   "source": [
    "prispevek(\"radim@gmail.com\", \"Ahoj, uzivateli\")"
   ]
  },
  {
   "cell_type": "markdown",
   "metadata": {
    "id": "UYVsvm1at2po"
   },
   "source": [
    "<font color=darkblue> **Návrhy na zlepšení** "
   ]
  },
  {
   "cell_type": "markdown",
   "metadata": {
    "id": "uRUgcMS6unH_"
   },
   "source": [
    "<details>\n",
    "  <summary>❓ Klikni zde pro vysvětlivky</summary>\n",
    "\n",
    "Správně definovaná funkce je taková, která dělá pouze jednu věc.\n",
    "    \n",
    "<br>\n",
    "    \n",
    "```python\n",
    "import datetime\n",
    "\n",
    "\n",
    "def naformatuj_cas():\n",
    "    aktualni_cas = datetime.datetime.now()\n",
    "    return aktualni_cas.strftime(\"%H:%M:%S\")\n",
    "    \n",
    "def vytvor_prezdivku(email):\n",
    "    return email.split(\"@\")[0].capitalize()\n",
    "\n",
    "def prispevek(email, zprava):\n",
    "    formatovany_cas = naformatuj_cas()\n",
    "    jmeno = vytvor_prezdivku(email)\n",
    "    return f\"{formatovany_cas}-{jmeno}: {zprava}\"\n",
    "\n",
    "\n",
    "prispevek(\"matous@matous.cz\", \"Ahoj vsem na osme lekci!\")\n",
    "```\n",
    "\n",
    "<br>\n",
    "\n",
    "</details>\n",
    "\n",
    "---"
   ]
  },
  {
   "cell_type": "markdown",
   "metadata": {
    "id": "GP52HQ6MuuQn"
   },
   "source": [
    "<br>\n",
    "\n",
    "# <font color=darkblue> ▶ **Jakým lepším způsobem můžeme zapsat přírůstek hodnoty v proměnné 'vysledek'?** \n",
    "\n",
    "```python\n",
    "vysledek = int()\n",
    "cisla = {11, 22, 33, 44, 55}\n",
    "\n",
    "for cislo in cisla:\n",
    "    if isinstance(cislo, int):\n",
    "        vysledek = vysledek + cislo**2\n",
    "else:\n",
    "    print(vysledek)\n",
    "```"
   ]
  },
  {
   "cell_type": "code",
   "execution_count": null,
   "metadata": {
    "id": "sDb8CGJLag0V"
   },
   "outputs": [],
   "source": [
    "vysledek += cislo**2"
   ]
  },
  {
   "cell_type": "markdown",
   "metadata": {
    "id": "gZ5bLHtAvIOv"
   },
   "source": [
    "<details>\n",
    "  <summary>❓ Klikni zde pro vysvětlivky</summary>\n",
    "\n",
    "Optimální řešení můžeš napsat pomocí *augmented assignment*, tedy řešení se zkráceným zápisem.\n",
    "    \n",
    "<br>\n",
    "    \n",
    "```python\n",
    "vysledek = int()\n",
    "cisla = {11, 22, 33, 44, 55}\n",
    "\n",
    "for cislo in cisla:\n",
    "    if isinstance(cislo, int):\n",
    "        vysledek += cislo**2\n",
    "else:\n",
    "    print(vysledek)\n",
    "```\n",
    "\n",
    "<br>\n",
    "\n",
    "</details>\n",
    "\n",
    "---"
   ]
  },
  {
   "cell_type": "markdown",
   "metadata": {
    "id": "e6RTMPggvl7G"
   },
   "source": [
    "<br>\n",
    "\n",
    "# <font color=darkblue> ▶ **zapiš definici funkce, která nám pro zadané listy vrátí největší liché číslo!** "
   ]
  },
  {
   "cell_type": "code",
   "execution_count": 11,
   "metadata": {
    "id": "7l9cIdX1vvNE"
   },
   "outputs": [],
   "source": [
    "CISELNA_SEKV_1 = [\n",
    "    397, 214, 592, 955, 141,\n",
    "    168, 532, 204, 21, 198,\n",
    "    179, 872, 483, 257, 249,\n",
    "    157, 340, 786, 268, 334,\n",
    "    43, 718, 735, 602, 804,\n",
    "    806, 906, 593, 672, 391,\n",
    "    274, 867, 54, 601, 592,\n",
    "    416, 985, 168, 834, 608\n",
    "]\n",
    "\n",
    "CISELNA_SEKV_2 = [\n",
    "    397, 214, 592, 955, 141,\n",
    "    168, 532, 204, 21, 198,\n",
    "    179, 872, 483, 257, 249,\n",
    "    157, 340, 786, 268, 334,\n",
    "    43, 718, \"123a\", 602, 804,\n",
    "    806, 906, 593, 672, 391,\n",
    "    274, 867, 54, 601, 592,\n",
    "    416, 985, 168, 834, 608\n",
    "]"
   ]
  },
  {
   "cell_type": "code",
   "execution_count": 9,
   "metadata": {
    "id": "0ARX7KfAaf0J"
   },
   "outputs": [],
   "source": [
    "def nejvetsi_liche_cislo(sekvence):\n",
    "    nejvetsi_liche_cislo = int()\n",
    "    \n",
    "    for cislo in sekvence:\n",
    "        if cislo % 2 != 0 and cislo > nejvetsi_liche_cislo:\n",
    "            nejvetsi_liche_cislo = cislo\n",
    "    return nejvetsi_liche_cislo\n",
    "        "
   ]
  },
  {
   "cell_type": "code",
   "execution_count": 12,
   "metadata": {},
   "outputs": [
    {
     "data": {
      "text/plain": [
       "985"
      ]
     },
     "execution_count": 12,
     "metadata": {},
     "output_type": "execute_result"
    }
   ],
   "source": [
    "nejvetsi_liche_cislo(CISELNA_SEKV_1)"
   ]
  },
  {
   "cell_type": "code",
   "execution_count": null,
   "metadata": {},
   "outputs": [],
   "source": [
    "isinstance()"
   ]
  },
  {
   "cell_type": "markdown",
   "metadata": {
    "id": "kJroPc4Cv54U"
   },
   "source": [
    "<details>\n",
    "  <summary> ❓ Klikni zde pro zobrazení řešení</summary>\n",
    "   \n",
    "```python\n",
    "def nejvetsi_liche_cislo(sekvence_c: list) -> int:\n",
    "    nejvetsi_liche_cislo = int()\n",
    "\n",
    "    for cislo in sekvence_c:\n",
    "        if (\n",
    "            isinstance(cislo, int) \n",
    "            and cislo % 2 != 0\n",
    "            and cislo > nejvetsi_liche_cislo\n",
    "        ):\n",
    "            nejvetsi_liche_cislo = cislo\n",
    "    return nejvetsi_liche_cislo\n",
    "```\n",
    "</details>\n",
    "\n",
    "---"
   ]
  }
 ],
 "metadata": {
  "colab": {
   "provenance": []
  },
  "kernelspec": {
   "display_name": "Python 3 (ipykernel)",
   "language": "python",
   "name": "python3"
  },
  "language_info": {
   "codemirror_mode": {
    "name": "ipython",
    "version": 3
   },
   "file_extension": ".py",
   "mimetype": "text/x-python",
   "name": "python",
   "nbconvert_exporter": "python",
   "pygments_lexer": "ipython3",
   "version": "3.10.0"
  }
 },
 "nbformat": 4,
 "nbformat_minor": 1
}
