{
 "cells": [
  {
   "cell_type": "markdown",
   "metadata": {
    "id": "bYZ2-j5YbfhS"
   },
   "source": [
    "<h6 align=right>Python akademie - lekce 8 - 1.11.2022</h6>"
   ]
  },
  {
   "cell_type": "markdown",
   "metadata": {
    "id": "tLxSNoc4bi8Y"
   },
   "source": [
    "# <h1 align=center><font color=darkblue size=32><b> Funkce ▶ pokročilejší koncepty</font></h1>\n",
    "\n",
    "---\n",
    "\n",
    "<br>"
   ]
  },
  {
   "cell_type": "markdown",
   "metadata": {
    "id": "P97M4FHVbzDh"
   },
   "source": [
    "<br>\n",
    "\n",
    "# <font color=darkblue> ▶ **Parametry** \n",
    "\n",
    "---\n"
   ]
  },
  {
   "cell_type": "markdown",
   "metadata": {
    "id": "PJSELoOecjHb"
   },
   "source": [
    "O funkčních **parametrech** a **argumentech** jsme se již v krátkosti zmínili. Pojďme to opět dotáhnout blíže k dokonalosti.\n",
    "\n",
    "<br>\n",
    "\n",
    "**Parametr** je v podstatě proměnná, která může obsahovat různé hodnoty. Používáme jej právě kvůli tomu, abychom ve funkci nachystali nějaké *místodržícího*, který bude očekávat při spuštění hodnotu.\n",
    "\n",
    "<br>\n",
    "\n",
    "**Argument** je ve své podstatě hodnota, na kterou parametr čeká. Skutečné hodnota, kterou ve funkci použijeme.\n",
    "\n",
    "<br>\n",
    "\n",
    "Kolik parametrů, jaké typy, jak je zapsat? To jsou otázky, kterým se nyní chceme věnovat.\n",
    "\n",
    "1. Poziční argumenty\n",
    "2. Klíčové argumenty\n",
    "3. Defaultní parametry\n",
    "4. 🆕 Position-only parametry\n",
    "5. 😱 \\*args\n",
    "6. 🤖 \\*\\*kwargs\n",
    "\n",
    "<br>\n",
    "\n",
    "---\n",
    "\n",
    "<br>"
   ]
  },
  {
   "cell_type": "markdown",
   "metadata": {
    "id": "4n0Bj6GCcwGb"
   },
   "source": [
    "## <font color=darkblue> **Poziční argumenty (~poziční parametry)**\n",
    "\n",
    "<br>\n",
    "\n",
    "Pokud spouštíme funkci, argumenty jsou přiřazovány ke svým parametrům **pomocí pořadí**, ve kterém je zapíšeme (můžeme si pomoci indexem).\n",
    "\n",
    "<br>\n",
    "\n",
    "Je to **nejčastější** a **nejjasnější** forma zápisu, která se používá:"
   ]
  },
  {
   "cell_type": "code",
   "execution_count": 1,
   "metadata": {},
   "outputs": [],
   "source": [
    "def poradi_prezidentu(par1, par2, par3):\n",
    "    print(f'Prvni prezident byl {par1}')\n",
    "    print(f'Druhy prezident byl {par2}')\n",
    "    print(f'Treti prezident byl {par3}')"
   ]
  },
  {
   "cell_type": "code",
   "execution_count": 2,
   "metadata": {},
   "outputs": [
    {
     "name": "stdout",
     "output_type": "stream",
     "text": [
      "Prvni prezident byl Masaryk\n",
      "Druhy prezident byl Benes\n",
      "Treti prezident byl Hacha\n"
     ]
    }
   ],
   "source": [
    "poradi_prezidentu(\"Masaryk\", \"Benes\", \"Hacha\")"
   ]
  },
  {
   "cell_type": "code",
   "execution_count": 3,
   "metadata": {},
   "outputs": [
    {
     "name": "stdout",
     "output_type": "stream",
     "text": [
      "Prvni prezident byl Benes\n",
      "Druhy prezident byl Masaryk\n",
      "Treti prezident byl Hacha\n"
     ]
    }
   ],
   "source": [
    "poradi_prezidentu(\"Benes\", \"Masaryk\", \"Hacha\")"
   ]
  },
  {
   "cell_type": "markdown",
   "metadata": {
    "id": "1y2_uRygezK3"
   },
   "source": [
    "\n",
    "\n",
    "---\n",
    "\n"
   ]
  },
  {
   "cell_type": "markdown",
   "metadata": {
    "id": "RmZJf1sAe0Lu"
   },
   "source": [
    "## <font color=darkblue> **Klíčové argumenty (~klíčové parametry)**\n",
    "\n",
    "<br>\n",
    "\n",
    "Pokud spouštíme funkci, argumenty jsou přiřazované pomocí jména parametru (podobně jako `dict klíč = hodnota`).\n",
    "\n",
    "<br>\n",
    "\n",
    "Tento způsob není tak častý (horší čitelnost):\n"
   ]
  },
  {
   "cell_type": "code",
   "execution_count": 4,
   "metadata": {},
   "outputs": [],
   "source": [
    "def poradi_prezidentu(par1, par2, par3):\n",
    "    print(f'Prvni prezident byl {par1}')\n",
    "    print(f'Druhy prezident byl {par2}')\n",
    "    print(f'Treti prezident byl {par3}')"
   ]
  },
  {
   "cell_type": "code",
   "execution_count": 5,
   "metadata": {},
   "outputs": [
    {
     "name": "stdout",
     "output_type": "stream",
     "text": [
      "Prvni prezident byl Masaryk\n",
      "Druhy prezident byl Benes\n",
      "Treti prezident byl Hacha\n"
     ]
    }
   ],
   "source": [
    "poradi_prezidentu(par1=\"Masaryk\", par2=\"Benes\", par3=\"Hacha\")"
   ]
  },
  {
   "cell_type": "code",
   "execution_count": 6,
   "metadata": {},
   "outputs": [
    {
     "name": "stdout",
     "output_type": "stream",
     "text": [
      "Prvni prezident byl Masaryk\n",
      "Druhy prezident byl Benes\n",
      "Treti prezident byl Hacha\n"
     ]
    }
   ],
   "source": [
    "poradi_prezidentu(par3=\"Hacha\", par2=\"Benes\", par1=\"Masaryk\")"
   ]
  },
  {
   "cell_type": "code",
   "execution_count": 7,
   "metadata": {},
   "outputs": [
    {
     "name": "stdout",
     "output_type": "stream",
     "text": [
      "Prvni prezident byl Benes\n",
      "Druhy prezident byl Masaryk\n",
      "Treti prezident byl Hacha\n"
     ]
    }
   ],
   "source": [
    "poradi_prezidentu(par1=\"Benes\", par2=\"Masaryk\", par3=\"Hacha\")"
   ]
  },
  {
   "cell_type": "markdown",
   "metadata": {
    "id": "qHs58qHCgoM1"
   },
   "source": [
    "\n",
    "\n",
    "---\n",
    "\n"
   ]
  },
  {
   "cell_type": "markdown",
   "metadata": {
    "id": "Ljcv0gN6gpD1"
   },
   "source": [
    "## <font color=darkblue> **Defaultní parametry**\n",
    "\n",
    "<br>\n",
    "\n",
    "Pokud definujeme funkci, můžeme přímo k parametrům přiřadit příslušné hodnoty.\n",
    "\n",
    "<br>\n",
    "\n",
    "Pokud funkci nespustíme pomocí argumentů, jsou automaticky použité ty, které jsme předdefinovali.\n",
    "\n",
    "<br>\n",
    "\n",
    "Pokud funkci spustím s argumenty, dojde k přepsání původních hodnot.\n"
   ]
  },
  {
   "cell_type": "code",
   "execution_count": 8,
   "metadata": {},
   "outputs": [],
   "source": [
    "def poradi_prezidentu(par1=\"Masaryk\", par2=\"Benes\", par3=\"Hacha\"):\n",
    "    print(f'Prvni prezident byl {par1}')\n",
    "    print(f'Druhy prezident byl {par2}')\n",
    "    print(f'Treti prezident byl {par3}')"
   ]
  },
  {
   "cell_type": "code",
   "execution_count": null,
   "metadata": {},
   "outputs": [],
   "source": [
    "def poradi_prezidentu(par2=\"Benes\", par1=\"Masaryk\", par3=\"Hacha\"):\n",
    "    print(f'Prvni prezident byl {par1}')\n",
    "    print(f'Druhy prezident byl {par2}')\n",
    "    print(f'Treti prezident byl {par3}')"
   ]
  },
  {
   "cell_type": "code",
   "execution_count": 9,
   "metadata": {},
   "outputs": [
    {
     "name": "stdout",
     "output_type": "stream",
     "text": [
      "Prvni prezident byl Masaryk\n",
      "Druhy prezident byl Benes\n",
      "Treti prezident byl Hacha\n"
     ]
    }
   ],
   "source": [
    "poradi_prezidentu()"
   ]
  },
  {
   "cell_type": "code",
   "execution_count": 10,
   "metadata": {},
   "outputs": [
    {
     "name": "stdout",
     "output_type": "stream",
     "text": [
      "Prvni prezident byl Havel\n",
      "Druhy prezident byl Klaus\n",
      "Treti prezident byl Zeman\n"
     ]
    }
   ],
   "source": [
    "poradi_prezidentu(\"Havel\", \"Klaus\", \"Zeman\")"
   ]
  },
  {
   "cell_type": "code",
   "execution_count": 11,
   "metadata": {},
   "outputs": [
    {
     "name": "stdout",
     "output_type": "stream",
     "text": [
      "Prvni prezident byl Havel\n",
      "Druhy prezident byl Klaus\n",
      "Treti prezident byl Hacha\n"
     ]
    }
   ],
   "source": [
    "poradi_prezidentu(\"Havel\", \"Klaus\")"
   ]
  },
  {
   "cell_type": "code",
   "execution_count": 12,
   "metadata": {},
   "outputs": [
    {
     "ename": "TypeError",
     "evalue": "poradi_prezidentu() takes from 0 to 3 positional arguments but 4 were given",
     "output_type": "error",
     "traceback": [
      "\u001b[1;31m---------------------------------------------------------------------------\u001b[0m",
      "\u001b[1;31mTypeError\u001b[0m                                 Traceback (most recent call last)",
      "\u001b[1;32m~\\AppData\\Local\\Temp/ipykernel_31088/3948843777.py\u001b[0m in \u001b[0;36m<module>\u001b[1;34m\u001b[0m\n\u001b[1;32m----> 1\u001b[1;33m \u001b[0mporadi_prezidentu\u001b[0m\u001b[1;33m(\u001b[0m\u001b[1;34m\"Havel\"\u001b[0m\u001b[1;33m,\u001b[0m \u001b[1;34m\"Klaus\"\u001b[0m\u001b[1;33m,\u001b[0m \u001b[1;34m\"Zeman\"\u001b[0m\u001b[1;33m,\u001b[0m \u001b[1;34m\"Polivka\"\u001b[0m\u001b[1;33m)\u001b[0m\u001b[1;33m\u001b[0m\u001b[1;33m\u001b[0m\u001b[0m\n\u001b[0m",
      "\u001b[1;31mTypeError\u001b[0m: poradi_prezidentu() takes from 0 to 3 positional arguments but 4 were given"
     ]
    }
   ],
   "source": [
    "poradi_prezidentu(\"Havel\", \"Klaus\", \"Zeman\", \"Polivka\")"
   ]
  },
  {
   "cell_type": "markdown",
   "metadata": {
    "id": "_Siv3JRhlMCh"
   },
   "source": [
    "\n",
    "\n",
    "---\n",
    "\n"
   ]
  },
  {
   "cell_type": "markdown",
   "metadata": {
    "id": "jssnmmSLl1r0"
   },
   "source": [
    "## <font color=darkblue> **Position-only parameters**\n",
    "\n",
    "<br>\n",
    "\n",
    "❗od pythonu 3.8\n",
    "\n",
    "<br>\n",
    "\n",
    "Novější varianta zápisu, kdy lomítkem oddělíme skupinu **pozičních** a **klíčových** parametrů při definici funkce:\n"
   ]
  },
  {
   "cell_type": "code",
   "execution_count": 13,
   "metadata": {},
   "outputs": [],
   "source": [
    "def moje_funkce(par1, par2, /, par3):\n",
    "    print(f\"To je {par1}!\")\n",
    "    print(f\"To je {par2}!\")\n",
    "    print(f\"To je {par3}!\")"
   ]
  },
  {
   "cell_type": "code",
   "execution_count": 14,
   "metadata": {},
   "outputs": [
    {
     "name": "stdout",
     "output_type": "stream",
     "text": [
      "To je Radim!\n",
      "To je Adam!\n",
      "To je David!\n"
     ]
    }
   ],
   "source": [
    "moje_funkce(\"Radim\", \"Adam\", \"David\")"
   ]
  },
  {
   "cell_type": "code",
   "execution_count": 16,
   "metadata": {},
   "outputs": [
    {
     "ename": "TypeError",
     "evalue": "moje_funkce() got some positional-only arguments passed as keyword arguments: 'par1, par2'",
     "output_type": "error",
     "traceback": [
      "\u001b[1;31m---------------------------------------------------------------------------\u001b[0m",
      "\u001b[1;31mTypeError\u001b[0m                                 Traceback (most recent call last)",
      "\u001b[1;32m~\\AppData\\Local\\Temp/ipykernel_31088/881777160.py\u001b[0m in \u001b[0;36m<module>\u001b[1;34m\u001b[0m\n\u001b[1;32m----> 1\u001b[1;33m \u001b[0mmoje_funkce\u001b[0m\u001b[1;33m(\u001b[0m\u001b[0mpar1\u001b[0m\u001b[1;33m=\u001b[0m\u001b[1;34m\"Radim\"\u001b[0m\u001b[1;33m,\u001b[0m \u001b[0mpar2\u001b[0m\u001b[1;33m=\u001b[0m\u001b[1;34m\"Adam\"\u001b[0m\u001b[1;33m,\u001b[0m \u001b[0mpar3\u001b[0m\u001b[1;33m=\u001b[0m\u001b[1;34m\"David\"\u001b[0m\u001b[1;33m)\u001b[0m\u001b[1;33m\u001b[0m\u001b[1;33m\u001b[0m\u001b[0m\n\u001b[0m",
      "\u001b[1;31mTypeError\u001b[0m: moje_funkce() got some positional-only arguments passed as keyword arguments: 'par1, par2'"
     ]
    }
   ],
   "source": [
    "moje_funkce(par1=\"Radim\", par2=\"Adam\", par3=\"David\")"
   ]
  },
  {
   "cell_type": "code",
   "execution_count": 17,
   "metadata": {},
   "outputs": [
    {
     "name": "stdout",
     "output_type": "stream",
     "text": [
      "To je Radim!\n",
      "To je Adam!\n",
      "To je David!\n"
     ]
    }
   ],
   "source": [
    "moje_funkce(\"Radim\", \"Adam\", par3=\"David\")"
   ]
  },
  {
   "cell_type": "markdown",
   "metadata": {
    "id": "YxSx0xtNmn4T"
   },
   "source": [
    "\n",
    "\n",
    "---\n",
    "\n"
   ]
  },
  {
   "cell_type": "markdown",
   "metadata": {
    "id": "V6aqPEtqlNMd"
   },
   "source": [
    "## <font color=darkblue> ***args**\n",
    "\n",
    "<br>\n",
    "\n",
    "Specialní varianta zápisu parametru (potažmo argumentů) funkce, kde pracuji s **různou délkou** datové struktury.\n",
    "\n",
    "<br>\n",
    "\n",
    "Vkládané hodnoty argumentů jsou v podstatě `list(tuple)`:\n",
    "\n",
    "<br>\n",
    "\n",
    "Pokud funkci spustím s argumenty, dojde k přepsání původních hodnot.\n"
   ]
  },
  {
   "cell_type": "code",
   "execution_count": 18,
   "metadata": {},
   "outputs": [],
   "source": [
    "def preved_velka_pismena(*args):\n",
    "    for prvek in args:\n",
    "        print(prvek.title())"
   ]
  },
  {
   "cell_type": "code",
   "execution_count": 19,
   "metadata": {},
   "outputs": [
    {
     "name": "stdout",
     "output_type": "stream",
     "text": [
      "Praha\n"
     ]
    }
   ],
   "source": [
    "preved_velka_pismena('praha')"
   ]
  },
  {
   "cell_type": "code",
   "execution_count": 20,
   "metadata": {},
   "outputs": [
    {
     "name": "stdout",
     "output_type": "stream",
     "text": [
      "Praha\n",
      "Brno\n",
      "Olomouc\n"
     ]
    }
   ],
   "source": [
    "preved_velka_pismena('praha', 'brno', 'olomouc')"
   ]
  },
  {
   "cell_type": "markdown",
   "metadata": {
    "id": "ssNd86JnoqGV"
   },
   "source": [
    "\n",
    "\n",
    "---\n",
    "\n"
   ]
  },
  {
   "cell_type": "markdown",
   "metadata": {
    "id": "eJW-BA_coq_0"
   },
   "source": [
    "## <font color=darkblue> ****kwargs**\n",
    "\n",
    "<br>\n",
    "\n",
    "Další speciální případ pro zápis parametrů a argumentů.\n",
    "\n",
    "<br>\n",
    "\n",
    "Tentokrát vkládáme hodnoty argumentů jako páry **klíč** & **hodnota** ze slovníku:\n",
    "\n",
    "\n"
   ]
  },
  {
   "cell_type": "code",
   "execution_count": 21,
   "metadata": {},
   "outputs": [],
   "source": [
    "def moje_funkce(**kwargs):\n",
    "    for klic, hodnota in kwargs.items():\n",
    "        print(f\"{klic} -> {hodnota}\")"
   ]
  },
  {
   "cell_type": "code",
   "execution_count": 22,
   "metadata": {},
   "outputs": [
    {
     "name": "stdout",
     "output_type": "stream",
     "text": [
      "jmeno -> Radim\n",
      "prijmeni -> Jedlicka\n"
     ]
    }
   ],
   "source": [
    "moje_funkce(jmeno=\"Radim\", prijmeni=\"Jedlicka\")"
   ]
  },
  {
   "cell_type": "code",
   "execution_count": 23,
   "metadata": {},
   "outputs": [
    {
     "name": "stdout",
     "output_type": "stream",
     "text": [
      "jmeno -> Radim\n",
      "prijmeni -> Jedlicka\n",
      "narozen -> 1.1.2020\n",
      "povolani -> lektor\n"
     ]
    }
   ],
   "source": [
    "moje_funkce(jmeno=\"Radim\", prijmeni=\"Jedlicka\", narozen=\"1.1.2020\", povolani=\"lektor\")"
   ]
  },
  {
   "cell_type": "markdown",
   "metadata": {
    "id": "HH8SZaa3tmUt"
   },
   "source": [
    "\n",
    "\n",
    "---\n",
    "\n"
   ]
  },
  {
   "cell_type": "markdown",
   "metadata": {
    "id": "hY0k0hrGtnN0"
   },
   "source": [
    "## <font color=darkblue> **Kombinace zápisu parametrů (argumentů)**\n",
    "\n",
    "<br>\n",
    "\n",
    "Jednotlivé varianty můžeme kombinovat při práci s funkcemi. Zásadní je dodržet správné pořádí parametrů:"
   ]
  },
  {
   "cell_type": "code",
   "execution_count": 24,
   "metadata": {},
   "outputs": [],
   "source": [
    "def moje_funkce(par1, *args, **kwargs):\n",
    "    if kwargs.get(\"prepinac\") == True:\n",
    "        for jmeno in args:\n",
    "            print(jmeno)\n",
    "    else:\n",
    "        print(par1)"
   ]
  },
  {
   "cell_type": "code",
   "execution_count": 25,
   "metadata": {},
   "outputs": [
    {
     "name": "stdout",
     "output_type": "stream",
     "text": [
      "Radim\n",
      "Ondra\n",
      "Pavel\n"
     ]
    }
   ],
   "source": [
    "moje_funkce(\"Nashledanou\", \"Radim\", \"Ondra\", \"Pavel\", prepinac=True)"
   ]
  },
  {
   "cell_type": "code",
   "execution_count": 26,
   "metadata": {},
   "outputs": [
    {
     "name": "stdout",
     "output_type": "stream",
     "text": [
      "Nashledanou\n"
     ]
    }
   ],
   "source": [
    "moje_funkce(\"Nashledanou\", \"Radim\", \"Ondra\", \"Pavel\", prepinac=False)"
   ]
  },
  {
   "cell_type": "markdown",
   "metadata": {
    "id": "N0v-oxO1ugBB"
   },
   "source": [
    "<br>\n",
    "\n",
    "# <font color=darkblue> ▶ **Dokumentování funkcí (~docstrings)** \n",
    "\n",
    "---\n",
    "\n",
    "- [Oficiální dokumentace k **docstring** u funkci (python.org)](https://www.python.org/dev/peps/pep-0257/)\n",
    "- [Oficiální dokumentace k **testování pomocí docstring** (python.org)](https://docs.python.org/3/library/doctest.html)\n",
    "\n",
    "<br>\n",
    "\n",
    "---\n",
    "Dokumentace funkce slouží k lepšímu porozumění účelu funkce, jejímu fungovaní, příp. funkčních parametrů.\n",
    "\n",
    "<br>\n",
    "\n",
    "Dále může obsahovat ukázku a popis funkcionality, případně **testy**.\n",
    "\n",
    "---\n",
    "\n",
    "<br>"
   ]
  },
  {
   "cell_type": "code",
   "execution_count": 31,
   "metadata": {},
   "outputs": [],
   "source": [
    "def specialni_funkce(cislo: int, mocnina: int) -> int:\n",
    "    \"\"\"\n",
    "    Popis:\n",
    "    ------\n",
    "    Tato funkce vezme parametr `cislo` \n",
    "    a umocni jej o hodnotu v parametru `mocnina`\n",
    "    \n",
    "    Ukazka:\n",
    "    -------\n",
    "    cislo: int = 5\n",
    "    mocnina: int = 2\n",
    "    Funkce vrati hodnotu: int = 25\n",
    "    \"\"\"\n",
    "    return cislo ** mocnina"
   ]
  },
  {
   "cell_type": "code",
   "execution_count": 29,
   "metadata": {},
   "outputs": [
    {
     "data": {
      "text/plain": [
       "125"
      ]
     },
     "execution_count": 29,
     "metadata": {},
     "output_type": "execute_result"
    }
   ],
   "source": [
    "specialni_funkce(5, 3)"
   ]
  },
  {
   "cell_type": "code",
   "execution_count": 32,
   "metadata": {},
   "outputs": [
    {
     "name": "stdout",
     "output_type": "stream",
     "text": [
      "Help on function specialni_funkce in module __main__:\n",
      "\n",
      "specialni_funkce(cislo: int, mocnina: int) -> int\n",
      "    Popis:\n",
      "    ------\n",
      "    Tato funkce vezme parametr `cislo` \n",
      "    a umocni jej o hodnotu v parametru `mocnina`\n",
      "    \n",
      "    Ukazka:\n",
      "    -------\n",
      "    cislo: int = 5\n",
      "    mocnina: int = 2\n",
      "    Funkce vrati hodnotu: int = 25\n",
      "\n"
     ]
    }
   ],
   "source": [
    "help(specialni_funkce)"
   ]
  },
  {
   "cell_type": "markdown",
   "metadata": {
    "id": "QR7qQNADwF4U"
   },
   "source": [
    "\n",
    "\n",
    "---\n",
    "\n"
   ]
  },
  {
   "cell_type": "markdown",
   "metadata": {
    "id": "_zdzDupCwDqU"
   },
   "source": [
    "<br>\n",
    "\n",
    "## <font color=darkblue> **Testování v dokumentaci funkce**\n",
    "\n"
   ]
  },
  {
   "cell_type": "markdown",
   "metadata": {},
   "source": [
    "Test dopadl s chybou"
   ]
  },
  {
   "cell_type": "code",
   "execution_count": 37,
   "metadata": {},
   "outputs": [
    {
     "name": "stdout",
     "output_type": "stream",
     "text": [
      "**********************************************************************\n",
      "File \"__main__\", line 7, in __main__.specialni_funkce\n",
      "Failed example:\n",
      "    specialni_funkce(2, 3)\n",
      "Expected:\n",
      "    10\n",
      "Got:\n",
      "    8\n",
      "**********************************************************************\n",
      "1 items had failures:\n",
      "   1 of   3 in __main__.specialni_funkce\n",
      "***Test Failed*** 1 failures.\n"
     ]
    }
   ],
   "source": [
    "def specialni_funkce(cislo: int, mocnina: int) -> int:\n",
    "    \"\"\"\n",
    "    >>> specialni_funkce(5, 2)\n",
    "    25\n",
    "    >>> type(specialni_funkce(5, 2))\n",
    "    <class 'int'>\n",
    "    >>> specialni_funkce(2, 3)\n",
    "    10\n",
    "    \"\"\"\n",
    "    return cislo ** mocnina\n",
    "\n",
    "\n",
    "if __name__ == \"__main__\":\n",
    "    import doctest\n",
    "    doctest.testmod()"
   ]
  },
  {
   "cell_type": "markdown",
   "metadata": {},
   "source": [
    "Test dopadl spravne"
   ]
  },
  {
   "cell_type": "code",
   "execution_count": 38,
   "metadata": {},
   "outputs": [],
   "source": [
    "def specialni_funkce(cislo: int, mocnina: int) -> int:\n",
    "    \"\"\"\n",
    "    >>> specialni_funkce(5, 2)\n",
    "    25\n",
    "    >>> type(specialni_funkce(5, 2))\n",
    "    <class 'int'>\n",
    "    \"\"\"\n",
    "    return cislo ** mocnina\n",
    "\n",
    "\n",
    "if __name__ == \"__main__\":\n",
    "    import doctest\n",
    "    doctest.testmod()"
   ]
  },
  {
   "cell_type": "code",
   "execution_count": null,
   "metadata": {},
   "outputs": [],
   "source": []
  }
 ],
 "metadata": {
  "colab": {
   "provenance": []
  },
  "kernelspec": {
   "display_name": "Python 3 (ipykernel)",
   "language": "python",
   "name": "python3"
  },
  "language_info": {
   "codemirror_mode": {
    "name": "ipython",
    "version": 3
   },
   "file_extension": ".py",
   "mimetype": "text/x-python",
   "name": "python",
   "nbconvert_exporter": "python",
   "pygments_lexer": "ipython3",
   "version": "3.10.0"
  }
 },
 "nbformat": 4,
 "nbformat_minor": 1
}
