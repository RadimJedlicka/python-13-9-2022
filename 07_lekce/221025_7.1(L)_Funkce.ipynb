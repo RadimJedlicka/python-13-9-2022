{
 "cells": [
  {
   "cell_type": "markdown",
   "metadata": {
    "id": "SfTn4uwaSwLO"
   },
   "source": [
    "<h6 align=right>Python akademie - lekce 7 - 25.10.2022</h6>"
   ]
  },
  {
   "cell_type": "markdown",
   "metadata": {
    "id": "kvS808XHSzik"
   },
   "source": [
    "# <h1 align=center><font color=blue size=36><b> Úvod do funkcí</font></h1>\n",
    "\n",
    "---\n",
    "\n",
    "<br>\n",
    "\n",
    "#### Zajímavé odkazy z celé lekce\n",
    "---\n",
    "* [Oficialní dokumentace všech built-in funkcí v Pythonu](https://docs.python.org/3/library/functions.html)\n",
    "\n",
    "\n",
    "<br>\n",
    "\n",
    "---"
   ]
  },
  {
   "cell_type": "markdown",
   "metadata": {
    "id": "fe_88yiaS7NM"
   },
   "source": [
    "Modelová situace:\n",
    "\n",
    "Máme zadaný text a chceme zjistit 5 nejčastějších slov. Řešením může být námi vypracovaná úloha ze 4. lekce.\n",
    "\n",
    "<br>\n"
   ]
  },
  {
   "cell_type": "markdown",
   "metadata": {
    "id": "Qg5wRe_qS-BA"
   },
   "source": [
    "<br>\n",
    "\n",
    "# <font color=blue> ▶ **Příklad na úvod** \n",
    "\n",
    "---\n"
   ]
  },
  {
   "cell_type": "code",
   "execution_count": 1,
   "metadata": {},
   "outputs": [],
   "source": [
    "text_1: str = \"\"\"\n",
    "Affronting imprudence do he he everything. Sex lasted dinner wanted indeed\n",
    "wished out law. Far advanced settling say finished raillery. Offered\n",
    "chiefly farther of my no colonel shyness. Such on help ye some door if in.\n",
    "Laughter proposal laughing any son law consider.\n",
    "\"\"\""
   ]
  },
  {
   "cell_type": "code",
   "execution_count": 2,
   "metadata": {},
   "outputs": [
    {
     "name": "stdout",
     "output_type": "stream",
     "text": [
      "|1.|    he    |2x|\n",
      "+--+----------+--+\n",
      "|2.|   law    |2x|\n",
      "+--+----------+--+\n",
      "|3.|affronting|1x|\n",
      "+--+----------+--+\n",
      "|4.|imprudence|1x|\n",
      "+--+----------+--+\n",
      "|5.|    do    |1x|\n",
      "+--+----------+--+\n"
     ]
    }
   ],
   "source": [
    "vyskyt_slov: dict = {}\n",
    "vycistena_slova: list = []\n",
    "oddelovac: str = \"+--+----------+--+\"\n",
    "\n",
    "for slovo in text_1.split():\n",
    "    vycistena_slova.append(slovo.strip(\",.:;'\").lower())\n",
    "\n",
    "for slovo in vycistena_slova:\n",
    "    if slovo not in vyskyt_slov:\n",
    "        vyskyt_slov[slovo] = 1\n",
    "    else:\n",
    "        vyskyt_slov[slovo] = vyskyt_slov[slovo] + 1\n",
    "\n",
    "pet_nejcastejsich = sorted(\n",
    "    vyskyt_slov,\n",
    "    key=vyskyt_slov.get,\n",
    "    reverse=True\n",
    ")[0: 5]\n",
    "\n",
    "for index, nejcasteji in enumerate(pet_nejcastejsich, 1):\n",
    "    print(\n",
    "        f\"|{index}.|{nejcasteji: ^10}|{vyskyt_slov[nejcasteji]}x|\",\n",
    "        oddelovac,\n",
    "        sep=\"\\n\"\n",
    "    )"
   ]
  },
  {
   "cell_type": "code",
   "execution_count": 4,
   "metadata": {},
   "outputs": [],
   "source": [
    "text_2 = \"\"\"\n",
    "Property men the why smallest graceful day insisted required.\n",
    "Inquiry justice country old placing sitting any ten age. Looking venture\n",
    "justice in evident in totally he do ability.\n",
    "\"\"\""
   ]
  },
  {
   "cell_type": "code",
   "execution_count": 5,
   "metadata": {},
   "outputs": [
    {
     "name": "stdout",
     "output_type": "stream",
     "text": [
      "|1.| justice  |2x|\n",
      "+--+----------+--+\n",
      "|2.|    in    |2x|\n",
      "+--+----------+--+\n",
      "|3.| property |1x|\n",
      "+--+----------+--+\n",
      "|4.|   men    |1x|\n",
      "+--+----------+--+\n",
      "|5.|   the    |1x|\n",
      "+--+----------+--+\n"
     ]
    }
   ],
   "source": [
    "vyskyt_slov: dict = {}\n",
    "vycistena_slova: list = []\n",
    "oddelovac: str = \"+--+----------+--+\"\n",
    "\n",
    "for slovo in text_2.split():\n",
    "    vycistena_slova.append(slovo.strip(\",.:;'\").lower())\n",
    "\n",
    "for slovo in vycistena_slova:\n",
    "    if slovo not in vyskyt_slov:\n",
    "        vyskyt_slov[slovo] = 1\n",
    "    else:\n",
    "        vyskyt_slov[slovo] = vyskyt_slov[slovo] + 1\n",
    "\n",
    "pet_nejcastejsich = sorted(\n",
    "    vyskyt_slov,\n",
    "    key=vyskyt_slov.get,\n",
    "    reverse=True\n",
    ")[0: 5]\n",
    "\n",
    "for index, nejcasteji in enumerate(pet_nejcastejsich, 1):\n",
    "    print(\n",
    "        f\"|{index}.|{nejcasteji: ^10}|{vyskyt_slov[nejcasteji]}x|\",\n",
    "        oddelovac,\n",
    "        sep=\"\\n\"\n",
    "    )"
   ]
  },
  {
   "cell_type": "code",
   "execution_count": 6,
   "metadata": {},
   "outputs": [],
   "source": [
    "def nejcastejsi_slova(text):\n",
    "    vyskyt_slov: dict = {}\n",
    "    vycistena_slova: list = []\n",
    "    oddelovac: str = \"+--+----------+--+\"\n",
    "\n",
    "    for slovo in text_2.split():\n",
    "        vycistena_slova.append(slovo.strip(\",.:;'\").lower())\n",
    "\n",
    "    for slovo in vycistena_slova:\n",
    "        if slovo not in vyskyt_slov:\n",
    "            vyskyt_slov[slovo] = 1\n",
    "        else:\n",
    "            vyskyt_slov[slovo] = vyskyt_slov[slovo] + 1\n",
    "\n",
    "    pet_nejcastejsich = sorted(\n",
    "        vyskyt_slov,\n",
    "        key=vyskyt_slov.get,\n",
    "        reverse=True\n",
    "    )[0: 5]\n",
    "\n",
    "    for index, nejcasteji in enumerate(pet_nejcastejsich, 1):\n",
    "        print(\n",
    "            f\"|{index}.|{nejcasteji: ^10}|{vyskyt_slov[nejcasteji]}x|\",\n",
    "            oddelovac,\n",
    "            sep=\"\\n\"\n",
    "        )"
   ]
  },
  {
   "cell_type": "code",
   "execution_count": 7,
   "metadata": {},
   "outputs": [
    {
     "name": "stdout",
     "output_type": "stream",
     "text": [
      "|1.| justice  |2x|\n",
      "+--+----------+--+\n",
      "|2.|    in    |2x|\n",
      "+--+----------+--+\n",
      "|3.| property |1x|\n",
      "+--+----------+--+\n",
      "|4.|   men    |1x|\n",
      "+--+----------+--+\n",
      "|5.|   the    |1x|\n",
      "+--+----------+--+\n"
     ]
    }
   ],
   "source": [
    "nejcastejsi_slova(text_2)\n",
    "\n",
    "\n",
    "\n"
   ]
  },
  {
   "cell_type": "markdown",
   "metadata": {
    "id": "OygVus0JUYV7"
   },
   "source": [
    "<br>\n",
    "\n",
    "# <font color=blue> ▶ **Definice funkce** \n",
    "\n",
    "---\n"
   ]
  },
  {
   "cell_type": "code",
   "execution_count": null,
   "metadata": {},
   "outputs": [],
   "source": [
    "def jmeno_funkce(parametr_1, parametr_2):\n",
    "    \"\"\"Popis ucelu funkce\"\"\"\n",
    "    ...\n",
    "    ...\n",
    "    ...\n",
    "    return parametr_1 + parametr_2"
   ]
  },
  {
   "cell_type": "markdown",
   "metadata": {
    "id": "TxkzJV7lUgdG"
   },
   "source": [
    "<br>\n",
    "\n",
    "# <font color=blue> ▶ **Spuštění funkce** \n",
    "\n",
    "---\n"
   ]
  },
  {
   "cell_type": "code",
   "execution_count": null,
   "metadata": {},
   "outputs": [],
   "source": [
    "vysledek = jmeno_funkce(2, 5)"
   ]
  },
  {
   "cell_type": "markdown",
   "metadata": {
    "id": "Yn3-CbTLUdAP"
   },
   "source": [
    "<br>\n",
    "\n",
    "# <font color=blue> ▶ **Ukázka funkce** \n",
    "\n",
    "---\n"
   ]
  },
  {
   "cell_type": "code",
   "execution_count": 8,
   "metadata": {},
   "outputs": [],
   "source": [
    "def spocitej_obsah_obdelniku(delka_strany_a, delka_strany_b):\n",
    "    obsah = delka_strany_a * delka_strany_b\n",
    "    return obsah"
   ]
  },
  {
   "cell_type": "code",
   "execution_count": 11,
   "metadata": {},
   "outputs": [
    {
     "name": "stdout",
     "output_type": "stream",
     "text": [
      "10\n"
     ]
    }
   ],
   "source": [
    "obdelnik1 = spocitej_obsah_obdelniku(2, 5)\n",
    "print(obdelnik1)"
   ]
  },
  {
   "cell_type": "code",
   "execution_count": 13,
   "metadata": {},
   "outputs": [
    {
     "name": "stdout",
     "output_type": "stream",
     "text": [
      "4560\n"
     ]
    }
   ],
   "source": [
    "obdelnik2 = spocitej_obsah_obdelniku(10, 456)\n",
    "print(obdelnik2)"
   ]
  },
  {
   "cell_type": "code",
   "execution_count": null,
   "metadata": {},
   "outputs": [],
   "source": [
    "def spocitej_obsah_obdelniku(delka_strany_a, delka_strany_b):\n",
    "    return delka_strany_a * delka_strany_b"
   ]
  },
  {
   "cell_type": "markdown",
   "metadata": {},
   "source": [
    "<br>\n",
    "\n",
    "#### Proč bychom měli použít uživatelské funkce\n",
    "\n",
    "---\n",
    "\n",
    "1. Ne všechny funkce jsou již zabudované,\n",
    "2. pro vlastní potřebu musíme vytvořit vlastní funkce.\n",
    "\n",
    "<br>\n",
    "\n",
    "#### Jak napsat řádnou uživatelskou funkci\n",
    "\n",
    "---\n",
    "\n",
    "1. Nejprve zkontroluji **zabudované funkce**, pak tvořím vlastní funkci (viz. `vypocitej_sumu()` -> `sum()`),\n",
    "\n",
    "\n",
    "\n",
    "<br>\n",
    "\n",
    "2. jméno popisuje **účel funkce** (pokud nelze, zapiš dokumentaci funkce),\n",
    "\n",
    "\n",
    "\n",
    "<br>\n",
    "\n",
    "3. ideálně **2 parametry** (maximálně 3)(jsou ovšem výjimky),\n",
    "\n",
    "\n",
    "<br>\n",
    "\n",
    "4. funkce by měla provádět **jedinou věc** (jinak je špatně čitelná, pochopitelná, testovatelná, škálovatelná),\n",
    "\n",
    "\n",
    "<br>\n",
    "\n",
    "5. funkce pracuje pouze s **vlastními parametry** (proměnnými),\n",
    "\n",
    "\n",
    "\n",
    "<br>\n",
    "\n",
    "6. 😍 Interpret Pythonu **miluje funkce**! 😍 Vytváří oddělená prostředí pro proměnné, se kterými efektivněji pracuje. "
   ]
  },
  {
   "cell_type": "code",
   "execution_count": null,
   "metadata": {},
   "outputs": [],
   "source": []
  }
 ],
 "metadata": {
  "colab": {
   "authorship_tag": "ABX9TyPbz/6VnaTxQjWcjwgyzLqw",
   "collapsed_sections": [],
   "provenance": []
  },
  "kernelspec": {
   "display_name": "Python 3 (ipykernel)",
   "language": "python",
   "name": "python3"
  },
  "language_info": {
   "codemirror_mode": {
    "name": "ipython",
    "version": 3
   },
   "file_extension": ".py",
   "mimetype": "text/x-python",
   "name": "python",
   "nbconvert_exporter": "python",
   "pygments_lexer": "ipython3",
   "version": "3.10.0"
  }
 },
 "nbformat": 4,
 "nbformat_minor": 1
}
