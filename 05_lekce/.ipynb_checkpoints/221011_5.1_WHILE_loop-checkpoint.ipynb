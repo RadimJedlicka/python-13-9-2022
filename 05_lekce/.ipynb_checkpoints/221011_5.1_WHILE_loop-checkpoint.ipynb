{
 "cells": [
  {
   "cell_type": "markdown",
   "metadata": {
    "id": "nMNsKD3DSuaZ"
   },
   "source": [
    "# <h1 align=center><font color=green size=36><b> 🐍 WHILE smyčka</font></h1>\n",
    "\n",
    "---"
   ]
  },
  {
   "cell_type": "markdown",
   "metadata": {
    "id": "pqu-IJwJSICv"
   },
   "source": [
    "* [Real Python](https://realpython.com/python-while-loop/)\n",
    "* [Python Tutor](https://pythontutor.com/render.html#mode=display)\n",
    "* [Programiz](https://www.programiz.com/python-programming/while-loop)\n",
    "* [freeCodeCamp](https://www.freecodecamp.org/news/while-loops-in-python-while-true-loop-statement-example/)\n",
    "* [YouTube](https://www.youtube.com/watch?v=rP4p0luqvR8)\n",
    "\n"
   ]
  },
  {
   "cell_type": "markdown",
   "metadata": {
    "id": "Psa8-VJET89z"
   },
   "source": [
    "<br>\n",
    "\n",
    "# <font color=darkblue> ▶ **Smyčka WHILE** \n",
    "\n",
    "---\n"
   ]
  },
  {
   "cell_type": "markdown",
   "metadata": {
    "id": "Keg4zcirXdn-"
   },
   "source": [
    "```python\n",
    "while <podmínka/test/výraz>:\n",
    "    <kód/ohlášení>\n",
    "```"
   ]
  },
  {
   "cell_type": "markdown",
   "metadata": {
    "id": "IjKDLg47cuwf"
   },
   "source": [
    "## Výrazem je proměnná (často číslo):"
   ]
  },
  {
   "cell_type": "code",
   "execution_count": null,
   "metadata": {},
   "outputs": [],
   "source": [
    "n = 5\n",
    "\n",
    "while n != 10:\n",
    "    n += 1\n",
    "    print(n)"
   ]
  },
  {
   "cell_type": "code",
   "execution_count": null,
   "metadata": {},
   "outputs": [],
   "source": [
    "n = 5\n",
    "\n",
    "while n != 10:\n",
    "    print(n)\n",
    "    n += 1"
   ]
  },
  {
   "cell_type": "code",
   "execution_count": null,
   "metadata": {},
   "outputs": [],
   "source": [
    "# ekvivalentni zapis\n",
    "n = n + 1\n",
    "n + 1"
   ]
  },
  {
   "cell_type": "code",
   "execution_count": null,
   "metadata": {},
   "outputs": [],
   "source": [
    "g = 10"
   ]
  },
  {
   "cell_type": "code",
   "execution_count": null,
   "metadata": {},
   "outputs": [],
   "source": [
    "g ++ g"
   ]
  },
  {
   "cell_type": "markdown",
   "metadata": {
    "id": "OTAK37q8dXCP"
   },
   "source": [
    "<br>\n",
    "\n",
    "## Výrazem je list:"
   ]
  },
  {
   "cell_type": "code",
   "execution_count": null,
   "metadata": {},
   "outputs": [],
   "source": [
    "auta = ['Skoda', 'Audi', 'Opel', \"Mercedes\"]\n",
    "\n",
    "while auta:\n",
    "    auta.pop(-1)\n",
    "    print(auta)"
   ]
  },
  {
   "cell_type": "code",
   "execution_count": null,
   "metadata": {},
   "outputs": [],
   "source": [
    "auta = ['Skoda', 'Audi', 'Opel', \"Mercedes\"]\n",
    "\n",
    "while auta:\n",
    "    print(auta.pop(-1))\n",
    "    print(auta)\n",
    "    print()"
   ]
  },
  {
   "cell_type": "code",
   "execution_count": null,
   "metadata": {},
   "outputs": [],
   "source": [
    "auta = ['Skoda', 'Audi', 'Opel', \"Mercedes\"]\n",
    "\n",
    "while auta:\n",
    "    print(type(auta.pop(-1)))\n",
    "    print(type(auta))\n",
    "    print()"
   ]
  },
  {
   "cell_type": "markdown",
   "metadata": {
    "id": "JIBSulhtnL1h"
   },
   "source": [
    "<br>\n",
    "\n",
    "## Výrazem je string:"
   ]
  },
  {
   "cell_type": "code",
   "execution_count": null,
   "metadata": {},
   "outputs": [],
   "source": [
    "muj_string = 'while smyčky můžou být neKonečné'\n",
    "\n",
    "while muj_string:\n",
    "    muj_string = muj_string[0:]\n",
    "    print(muj_string)"
   ]
  },
  {
   "cell_type": "markdown",
   "metadata": {},
   "source": [
    "Preruseni smycky\n",
    "v Jupyter: I+I\n",
    "v cmd: Ctrl+C"
   ]
  },
  {
   "cell_type": "markdown",
   "metadata": {
    "id": "MhkfAux7UKQG"
   },
   "source": [
    "<br>\n",
    "\n",
    "# <font color=darkblue> ▶ **Ohlášení `BREAK` a `CONTINUE`**\n",
    "\n",
    "---"
   ]
  },
  {
   "cell_type": "markdown",
   "metadata": {
    "id": "THSnoi0fndC1"
   },
   "source": [
    "<figure>\n",
    "<center>\n",
    "<img src='https://files.realpython.com/media/t.899f357dd948.png' width=\"400\" height=\"500\">\n",
    "<!-- <figcaption>Break and Continue</figcaption></center> -->\n",
    "</figure>"
   ]
  },
  {
   "cell_type": "code",
   "execution_count": null,
   "metadata": {},
   "outputs": [],
   "source": [
    "n = 5\n",
    "\n",
    "while n > 0:\n",
    "    n -= 1\n",
    "    if n == 2:\n",
    "        break\n",
    "    print(n)\n",
    "    "
   ]
  },
  {
   "cell_type": "code",
   "execution_count": null,
   "metadata": {},
   "outputs": [],
   "source": [
    "n = 5\n",
    "\n",
    "while n > 0:\n",
    "    n -= 1\n",
    "    if n == 2:\n",
    "        print(n)\n",
    "        break\n",
    "    "
   ]
  },
  {
   "cell_type": "code",
   "execution_count": null,
   "metadata": {},
   "outputs": [],
   "source": [
    "n = 5\n",
    "\n",
    "while n > 0:\n",
    "    n -= 1\n",
    "    if n == 2:\n",
    "        continue\n",
    "    print(n)"
   ]
  },
  {
   "cell_type": "markdown",
   "metadata": {
    "id": "KV0oz7NRVo4V"
   },
   "source": [
    "<br><br>\n",
    "\n",
    "# <font color=darkblue> ▶ **WHILE loop s doplňující podmínkou** \n",
    "\n",
    "---"
   ]
  },
  {
   "cell_type": "markdown",
   "metadata": {
    "id": "M3XUHUuDVxzk"
   },
   "source": [
    "Pokud je potřeba dopsat ještě doplňující podmínku, umí i `while` pracovat s těmi doplňky (stejně jako cyklus `for`):"
   ]
  },
  {
   "cell_type": "code",
   "execution_count": null,
   "metadata": {},
   "outputs": [],
   "source": [
    "index = 10\n",
    "\n",
    "while index < 20:\n",
    "    if len(str(index)) == 2:\n",
    "        index += 1\n",
    "        print(f'{index=}')\n",
    "    "
   ]
  },
  {
   "cell_type": "markdown",
   "metadata": {
    "id": "1n78YsaqV6yu"
   },
   "source": [
    "poznámka. Opatrně, je rozumné zkusit se nad zápisem zamyslet, jestli neexistuje možnost, jak podmínku upravit přímo v předpisu"
   ]
  },
  {
   "cell_type": "markdown",
   "metadata": {
    "id": "JpiMIZhmUWeu"
   },
   "source": [
    "<br><br>\n",
    "\n",
    "# <font color=darkblue> ▶ **klauzule ELSE** \n",
    "\n",
    "---\n"
   ]
  },
  {
   "cell_type": "markdown",
   "metadata": {
    "id": "tgDa08KRo6sJ"
   },
   "source": [
    "```python\n",
    "while <expr>:\n",
    "    <statement(s)>\n",
    "else:\n",
    "    <additional_statement(s)>\n",
    "```"
   ]
  },
  {
   "cell_type": "code",
   "execution_count": null,
   "metadata": {},
   "outputs": [],
   "source": [
    "n = 5\n",
    "\n",
    "while n > 0:\n",
    "    n -= 1\n",
    "    print(n)\n",
    "# else:\n",
    "print('Smycka skoncila')\n",
    "    \n",
    "    \n"
   ]
  },
  {
   "cell_type": "markdown",
   "metadata": {
    "id": "wFw7wfFSUaA6"
   },
   "source": [
    "<br><br>\n",
    "\n",
    "# <font color=darkblue> ▶ **Nekonečná smyčka**\n",
    "\n",
    "---"
   ]
  },
  {
   "cell_type": "code",
   "execution_count": null,
   "metadata": {},
   "outputs": [],
   "source": [
    "while True:\n",
    "    print('Nikdy neskoncim. NIKDY!')"
   ]
  },
  {
   "cell_type": "code",
   "execution_count": null,
   "metadata": {},
   "outputs": [],
   "source": [
    "switch = True\n",
    "\n",
    "while switch:\n",
    "    vstupni_hodnota = input('Zadej pismeno: ')\n",
    "    \n",
    "    if vstupni_hodnota.isalpha():\n",
    "        print(f'{vstupni_hodnota} je opravdu pismeno.')\n",
    "    else:\n",
    "        print(f'{vstupni_hodnota} neni pismeno, koncim program!')\n",
    "        switch = False\n",
    "#         break\n",
    "\n",
    "    "
   ]
  },
  {
   "cell_type": "markdown",
   "metadata": {
    "id": "0M1EA_pSUdMb"
   },
   "source": [
    "<br><br>\n",
    "\n",
    "# <font color=darkblue> ▶ **Vnořené WHILE smyčky**\n",
    "---"
   ]
  },
  {
   "cell_type": "code",
   "execution_count": null,
   "metadata": {
    "scrolled": true
   },
   "outputs": [],
   "source": [
    "pohlavi = input(' Zadej pohlavi (F=zena; M=muz): ')\n",
    "vek = int(input('Zadej vek: '))"
   ]
  },
  {
   "cell_type": "code",
   "execution_count": null,
   "metadata": {
    "scrolled": true
   },
   "outputs": [],
   "source": [
    "if vek < 18:\n",
    "    if pohlavi == 'M':\n",
    "        print('syn')\n",
    "    else:\n",
    "        print('dcera')\n",
    "elif vek >= 18 and vek < 65:\n",
    "    if pohlavi == 'M':\n",
    "        print('otec')\n",
    "    else:\n",
    "        print('matka')\n",
    "else:\n",
    "    if pohlavi == 'M':\n",
    "        print('dedecek')\n",
    "    else:\n",
    "        print('babicka')"
   ]
  },
  {
   "cell_type": "code",
   "execution_count": null,
   "metadata": {},
   "outputs": [],
   "source": [
    "nadpisy = ['1. kapitola', '2. kapitola']\n",
    "\n",
    "while len(nadpisy):\n",
    "    print(nadpisy.pop(0))\n",
    "    \n",
    "    podnadpisy = ['podkapitola 1', 'podkapitola 2']\n",
    "    \n",
    "    while len(podnadpisy):\n",
    "        print('  ', podnadpisy.pop(0))"
   ]
  },
  {
   "cell_type": "markdown",
   "metadata": {
    "id": "3x9iDLLEUgsP"
   },
   "source": [
    "<br><br>\n",
    "\n",
    "# <font color=darkblue> ▶ **WHILE smyčka na jednom řádku**\n",
    "\n",
    "---"
   ]
  },
  {
   "cell_type": "code",
   "execution_count": null,
   "metadata": {
    "scrolled": true
   },
   "outputs": [],
   "source": [
    "n = 5\n",
    "\n",
    "while n > 0:\n",
    "    print(n)\n",
    "    n -= 1"
   ]
  },
  {
   "cell_type": "code",
   "execution_count": null,
   "metadata": {},
   "outputs": [],
   "source": [
    "n = 5\n",
    "\n",
    "while n > 0: print(n); n -= 1"
   ]
  },
  {
   "cell_type": "code",
   "execution_count": null,
   "metadata": {},
   "outputs": [],
   "source": [
    "n = 5\n",
    "\n",
    "while n > 0: print(n); if True: n -= 1"
   ]
  },
  {
   "cell_type": "markdown",
   "metadata": {
    "id": "9yuzUbwYo2TQ"
   },
   "source": [
    "<br><br>\n",
    "\n",
    "# <font color=darkblue> ▶ **Příklady použití**\n",
    "\n",
    "--- "
   ]
  },
  {
   "cell_type": "markdown",
   "metadata": {
    "id": "YoHZ40RR1PnV"
   },
   "source": [
    "## **1. Počet výskytů**\n"
   ]
  },
  {
   "cell_type": "code",
   "execution_count": null,
   "metadata": {},
   "outputs": [],
   "source": [
    "barvy = [\n",
    "    'zelena', 'modra', 'cerna', 'cervena', \n",
    "    'cervena', 'zluta', 'modra', 'seda', \n",
    "    'cerna' , 'cervena', 'zelena'\n",
    "    ]\n",
    "\n",
    "pocet_barev = {}\n",
    "\n",
    "while barvy:\n",
    "    barva = barvy.pop()\n",
    "    \n",
    "    if barva not in pocet_barev:\n",
    "        pocet_barev[barva] = 0\n",
    "        \n",
    "#     pocet_barev[barva] = pocet_barev[barva] + 1\n",
    "    pocet_barev[barva] += 1"
   ]
  },
  {
   "cell_type": "code",
   "execution_count": null,
   "metadata": {},
   "outputs": [],
   "source": [
    "pocet_barev"
   ]
  },
  {
   "cell_type": "markdown",
   "metadata": {
    "id": "GPKyGCMV12nQ"
   },
   "source": [
    "<br>\n",
    "\n",
    "## **2. Předem neznáme počet opakování**\n"
   ]
  }
 ],
 "metadata": {
  "colab": {
   "collapsed_sections": [
    "KV0oz7NRVo4V",
    "wFw7wfFSUaA6",
    "0M1EA_pSUdMb",
    "3x9iDLLEUgsP",
    "c4HGJG6oUl7o"
   ],
   "provenance": []
  },
  "kernelspec": {
   "display_name": "Python 3 (ipykernel)",
   "language": "python",
   "name": "python3"
  },
  "language_info": {
   "codemirror_mode": {
    "name": "ipython",
    "version": 3
   },
   "file_extension": ".py",
   "mimetype": "text/x-python",
   "name": "python",
   "nbconvert_exporter": "python",
   "pygments_lexer": "ipython3",
   "version": "3.10.0"
  }
 },
 "nbformat": 4,
 "nbformat_minor": 1
}
