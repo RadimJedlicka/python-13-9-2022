{
 "cells": [
  {
   "cell_type": "markdown",
   "metadata": {},
   "source": [
    "<h6 align=right>Python akademie lekce 5. 11.10.2022</h6>"
   ]
  },
  {
   "cell_type": "markdown",
   "metadata": {
    "id": "lGxgW2pdFZbb"
   },
   "source": [
    "# <h1 align=center><font color=grey size=36><b> 🦭 WALRUS operátor</font></h1>\n",
    "\n",
    "---"
   ]
  },
  {
   "cell_type": "markdown",
   "metadata": {
    "id": "cbACtLJcF9zR"
   },
   "source": [
    "* [Co je to \"walrus\" operátor a jak funguje](https://deepsource.io/blog/python-walrus-operator/)\n",
    "* [Oficiální dokumentace k operátoru & složitější příklady](https://www.python.org/dev/peps/pep-0572/)\n",
    "* [Real Python](https://realpython.com/python-walrus-operator/)\n",
    "\n",
    "---"
   ]
  },
  {
   "cell_type": "markdown",
   "metadata": {
    "id": "GF4mF_FiHqYh"
   },
   "source": [
    "\n",
    "<br>\n",
    "\n",
    "<h1><b> := </b></h1>\n",
    "\n",
    "walrus operator == assignment expression operator == colon equals operator == named expressions"
   ]
  },
  {
   "cell_type": "code",
   "execution_count": null,
   "metadata": {},
   "outputs": [],
   "source": [
    "# verze Pythonu\n",
    "!python --version"
   ]
  },
  {
   "cell_type": "markdown",
   "metadata": {
    "id": "5AJgQAfWYFiH"
   },
   "source": [
    "<br>\n",
    "\n",
    "## Vytvoření odkazu na hodnotu + spuštění\n"
   ]
  },
  {
   "cell_type": "code",
   "execution_count": null,
   "metadata": {},
   "outputs": [],
   "source": [
    "jmeno = 'Lucie'"
   ]
  },
  {
   "cell_type": "code",
   "execution_count": null,
   "metadata": {},
   "outputs": [],
   "source": [
    "print(jmeno)"
   ]
  },
  {
   "cell_type": "markdown",
   "metadata": {
    "id": "ypQlfsa4YS0v"
   },
   "source": [
    "<br>\n",
    "\n",
    "## Vytvoření odkazu & spuštění"
   ]
  },
  {
   "cell_type": "code",
   "execution_count": null,
   "metadata": {},
   "outputs": [],
   "source": [
    "print(strom := 'kastan')"
   ]
  },
  {
   "cell_type": "code",
   "execution_count": null,
   "metadata": {},
   "outputs": [],
   "source": [
    "print(strom)"
   ]
  },
  {
   "cell_type": "markdown",
   "metadata": {
    "id": "M6xN4OwoYfec"
   },
   "source": [
    "<br>\n",
    "\n",
    "## Kombinace s podmínkou\n",
    "\n"
   ]
  },
  {
   "cell_type": "code",
   "execution_count": null,
   "metadata": {},
   "outputs": [],
   "source": [
    "jmeno = input(\"JMENO: \")\n",
    "\n",
    "if jmeno == \"Lucie\":\n",
    "    print(f\"POZDRAV: Ahoj, {jmeno}!\")\n",
    "else:\n",
    "    print(\"POZDRAV: Ahoj, vsem!\")"
   ]
  },
  {
   "cell_type": "code",
   "execution_count": null,
   "metadata": {},
   "outputs": [],
   "source": [
    "if (jmeno := input(\"JMENO:\")) == \"Lucie\":\n",
    "    print(f\"POZDRAV: Ahoj, {jmeno}!\")\n",
    "else:\n",
    "    print(\"POZDRAV: Ahoj, vsem!\")"
   ]
  },
  {
   "cell_type": "markdown",
   "metadata": {
    "id": "LupErbRBY7Qy"
   },
   "source": [
    "<br>\n",
    "\n",
    "## Kombinace s cyklem while"
   ]
  },
  {
   "cell_type": "code",
   "execution_count": null,
   "metadata": {},
   "outputs": [],
   "source": [
    "while (vstup := input(\"-> \")) != \"quit\":\n",
    "    print(f\"Zadal jsi: {vstup}\")\n",
    "else:\n",
    "    print(\"Konec smycky\")"
   ]
  }
 ],
 "metadata": {
  "colab": {
   "provenance": []
  },
  "kernelspec": {
   "display_name": "Python 3 (ipykernel)",
   "language": "python",
   "name": "python3"
  },
  "language_info": {
   "codemirror_mode": {
    "name": "ipython",
    "version": 3
   },
   "file_extension": ".py",
   "mimetype": "text/x-python",
   "name": "python",
   "nbconvert_exporter": "python",
   "pygments_lexer": "ipython3",
   "version": "3.10.0"
  }
 },
 "nbformat": 4,
 "nbformat_minor": 1
}
