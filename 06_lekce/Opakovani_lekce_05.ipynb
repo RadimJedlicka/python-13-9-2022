{
 "cells": [
  {
   "cell_type": "markdown",
   "metadata": {
    "id": "oilRRt5wa-4K"
   },
   "source": [
    "### Opakování po páté lekci!\n",
    "\n",
    "<br>\n",
    "\n",
    "Trochu rozehřejeme šedou kůru mozkovou na závěr této lekce.\n",
    "\n",
    "---"
   ]
  },
  {
   "cell_type": "markdown",
   "metadata": {
    "id": "JLipD0Psa-4M"
   },
   "source": [
    "#### Ukázka #01"
   ]
  },
  {
   "cell_type": "code",
   "execution_count": null,
   "metadata": {
    "colab": {
     "base_uri": "https://localhost:8080/"
    },
    "executionInfo": {
     "elapsed": 6,
     "status": "ok",
     "timestamp": 1666099609567,
     "user": {
      "displayName": "Radim Jedlička",
      "userId": "11502208915568361358"
     },
     "user_tz": -120
    },
    "id": "Nrig8U8Aa-4N",
    "outputId": "f549ae18-9ca6-42b5-c556-ce2464913c29"
   },
   "outputs": [],
   "source": [
    "muj_str_1 = \"bez_walruse\"\n",
    "print(muj_str_1)"
   ]
  },
  {
   "cell_type": "code",
   "execution_count": null,
   "metadata": {
    "colab": {
     "base_uri": "https://localhost:8080/",
     "height": 130
    },
    "executionInfo": {
     "elapsed": 4,
     "status": "error",
     "timestamp": 1666099612225,
     "user": {
      "displayName": "Radim Jedlička",
      "userId": "11502208915568361358"
     },
     "user_tz": -120
    },
    "id": "iJm0zFqxa-4U",
    "outputId": "ce28e144-7806-4665-ff9c-6a74296688b8"
   },
   "outputs": [],
   "source": [
    "muj_str_2 := \"s_walrusem\"\n",
    "print(muj_str_2)"
   ]
  },
  {
   "cell_type": "code",
   "execution_count": null,
   "metadata": {
    "colab": {
     "base_uri": "https://localhost:8080/",
     "height": 130
    },
    "executionInfo": {
     "elapsed": 8,
     "status": "error",
     "timestamp": 1666099615335,
     "user": {
      "displayName": "Radim Jedlička",
      "userId": "11502208915568361358"
     },
     "user_tz": -120
    },
    "id": "bpxX-ANRa-4U",
    "outputId": "90fc780a-5532-42d2-80a4-e146dd56ac73"
   },
   "outputs": [],
   "source": [
    "(muj_str_3 := \"s_walrusem\")\n",
    "print(muj_str_3)"
   ]
  },
  {
   "cell_type": "markdown",
   "metadata": {
    "id": "7lPpbPOSa-4V"
   },
   "source": [
    "<details>\n",
    "  <summary>❓ Klikni zde pro vysvětlivky</summary>\n",
    "   \n",
    "Jde o formu platného zápisu, pokud chcete používat přiřazovací výraz, potřebujete aplikovat kulaté závorky okolo celého výrazu.<br>\n",
    "Obecně pravidla pro používání a zapisování najdeme v [oficiální dokumentaci](https://www.python.org/dev/peps/pep-0572/#relative-precedence-of).\n",
    "</details>\n",
    "\n",
    "---"
   ]
  },
  {
   "cell_type": "markdown",
   "metadata": {
    "id": "WyKOjQgKa-4V"
   },
   "source": [
    "#### Ukázka #02"
   ]
  },
  {
   "cell_type": "code",
   "execution_count": null,
   "metadata": {
    "colab": {
     "base_uri": "https://localhost:8080/"
    },
    "executionInfo": {
     "elapsed": 558,
     "status": "ok",
     "timestamp": 1666099642024,
     "user": {
      "displayName": "Radim Jedlička",
      "userId": "11502208915568361358"
     },
     "user_tz": -120
    },
    "id": "R3At0N24a-4V",
    "outputId": "0f5e8af9-2cb8-4d90-d091-fb7d5af6ebcb"
   },
   "outputs": [],
   "source": [
    "moje_cisla = 69, 96\n",
    "print(moje_cisla)"
   ]
  },
  {
   "cell_type": "code",
   "execution_count": null,
   "metadata": {
    "colab": {
     "base_uri": "https://localhost:8080/",
     "height": 130
    },
    "executionInfo": {
     "elapsed": 428,
     "status": "error",
     "timestamp": 1666099650469,
     "user": {
      "displayName": "Radim Jedlička",
      "userId": "11502208915568361358"
     },
     "user_tz": -120
    },
    "id": "wEQr7Bkga-4V",
    "outputId": "b2567dba-25f0-4c3e-c41a-7db12b35eb7c"
   },
   "outputs": [],
   "source": [
    "(moje_cisla := 69, 96)\n",
    "print(moje_cisla)"
   ]
  },
  {
   "cell_type": "code",
   "execution_count": null,
   "metadata": {
    "colab": {
     "base_uri": "https://localhost:8080/"
    },
    "executionInfo": {
     "elapsed": 372,
     "status": "ok",
     "timestamp": 1666099654613,
     "user": {
      "displayName": "Radim Jedlička",
      "userId": "11502208915568361358"
     },
     "user_tz": -120
    },
    "id": "FZAty4-ta-4W",
    "outputId": "7eb22beb-5f30-4f87-f208-be5f30376dee"
   },
   "outputs": [],
   "source": [
    "moje_cislo_1, moje_cislo_2 = 69, 96\n",
    "print(moje_cislo_1)\n",
    "print(moje_cislo_2)"
   ]
  },
  {
   "cell_type": "code",
   "execution_count": null,
   "metadata": {
    "colab": {
     "base_uri": "https://localhost:8080/",
     "height": 130
    },
    "executionInfo": {
     "elapsed": 349,
     "status": "error",
     "timestamp": 1666099664218,
     "user": {
      "displayName": "Radim Jedlička",
      "userId": "11502208915568361358"
     },
     "user_tz": -120
    },
    "id": "LjPMzjGra-4W",
    "outputId": "f97e14b5-0fd8-48f1-cbe9-04e310cb1700"
   },
   "outputs": [],
   "source": [
    "(moje_cislo_1, moje_cislo_2 = 69, 96)\n",
    "print(f\"{moje_cislo_1}; {moje_cislo_2}\")"
   ]
  },
  {
   "cell_type": "code",
   "execution_count": null,
   "metadata": {
    "colab": {
     "base_uri": "https://localhost:8080/",
     "height": 130
    },
    "executionInfo": {
     "elapsed": 734,
     "status": "error",
     "timestamp": 1666099678397,
     "user": {
      "displayName": "Radim Jedlička",
      "userId": "11502208915568361358"
     },
     "user_tz": -120
    },
    "id": "OiknHr4ya-4W",
    "outputId": "39797096-be7c-4d8d-acf9-aec42a9b3d94"
   },
   "outputs": [],
   "source": [
    "(moje_cislo_1, moje_cislo_2 := 68, 86)"
   ]
  },
  {
   "cell_type": "code",
   "execution_count": null,
   "metadata": {
    "colab": {
     "base_uri": "https://localhost:8080/"
    },
    "executionInfo": {
     "elapsed": 11,
     "status": "ok",
     "timestamp": 1666099682033,
     "user": {
      "displayName": "Radim Jedlička",
      "userId": "11502208915568361358"
     },
     "user_tz": -120
    },
    "id": "1R3Ai7z6a-4W",
    "outputId": "7a11c47f-78c0-4cf9-f818-1f6731885dab"
   },
   "outputs": [],
   "source": [
    "print(moje_cislo_1)"
   ]
  },
  {
   "cell_type": "code",
   "execution_count": null,
   "metadata": {
    "colab": {
     "base_uri": "https://localhost:8080/"
    },
    "executionInfo": {
     "elapsed": 878,
     "status": "ok",
     "timestamp": 1666099685606,
     "user": {
      "displayName": "Radim Jedlička",
      "userId": "11502208915568361358"
     },
     "user_tz": -120
    },
    "id": "9G4bvxgxa-4W",
    "outputId": "ec84e0f5-8081-46cf-b6ed-c512cf463433"
   },
   "outputs": [],
   "source": [
    "print(moje_cislo_2)"
   ]
  },
  {
   "cell_type": "markdown",
   "metadata": {
    "id": "dq5Q752Ca-4W"
   },
   "source": [
    "<details>\n",
    "  <summary>❓ Klikni zde pro vysvětlivky</summary>\n",
    "\n",
    "   \n",
    "```\n",
    ">>> (moje_cisla := 69, 96)  # ((moje_cisla := 69), 96) -> moje_cisla = 69\n",
    ">>> (moje_cisla := 69, 96) == ((moje_cisla := 69), 96)\n",
    "True\n",
    ">>> x = (moje_cisla := 696, 96)\n",
    ">>> x\n",
    "(696, 96)\n",
    ">>> x[0] is moje_cisla\n",
    "True\n",
    "```\n",
    "\n",
    "</details>\n",
    "\n",
    "---"
   ]
  },
  {
   "cell_type": "markdown",
   "metadata": {
    "id": "X4M5rhZma-4X"
   },
   "source": [
    "#### Ukázka #03"
   ]
  },
  {
   "cell_type": "code",
   "execution_count": null,
   "metadata": {
    "executionInfo": {
     "elapsed": 853,
     "status": "ok",
     "timestamp": 1666099709645,
     "user": {
      "displayName": "Radim Jedlička",
      "userId": "11502208915568361358"
     },
     "user_tz": -120
    },
    "id": "i6zAjexfa-4X"
   },
   "outputs": [],
   "source": [
    "muj_list = [\"a\", \"b\", \"c\", \"d\", \"e\", \"f\"]"
   ]
  },
  {
   "cell_type": "code",
   "execution_count": null,
   "metadata": {
    "colab": {
     "base_uri": "https://localhost:8080/"
    },
    "executionInfo": {
     "elapsed": 888,
     "status": "ok",
     "timestamp": 1666099693951,
     "user": {
      "displayName": "Radim Jedlička",
      "userId": "11502208915568361358"
     },
     "user_tz": -120
    },
    "id": "OzF68fj_a-4X",
    "outputId": "b0c2a280-b52b-4e04-d3e5-668e6e71c99e"
   },
   "outputs": [],
   "source": [
    "while muj_list:\n",
    "    udaj = muj_list.pop()\n",
    "    print(udaj)"
   ]
  },
  {
   "cell_type": "code",
   "execution_count": null,
   "metadata": {
    "colab": {
     "base_uri": "https://localhost:8080/"
    },
    "executionInfo": {
     "elapsed": 4,
     "status": "ok",
     "timestamp": 1666099711559,
     "user": {
      "displayName": "Radim Jedlička",
      "userId": "11502208915568361358"
     },
     "user_tz": -120
    },
    "id": "bDv5DUcDa-4X",
    "outputId": "30dc1a92-ae83-4cca-da16-7da21823449e"
   },
   "outputs": [],
   "source": [
    "for udaj in muj_list:\n",
    "    print(udaj)"
   ]
  },
  {
   "cell_type": "markdown",
   "metadata": {
    "id": "r7zcQ4wqa-4X"
   },
   "source": [
    "<details>\n",
    "  <summary>❓ Klikni zde pro vysvětlivky</summary>\n",
    "\n",
    "   \n",
    "Než začneme psát smyčku, musíme si rozmyslet, která je pro naše účely nejvhodnější. Kdy je dobré použít `while` a kdy naopak `for`.\n",
    "\n",
    "</details>\n",
    "\n",
    "---"
   ]
  },
  {
   "cell_type": "markdown",
   "metadata": {
    "id": "X6PY2Nr6a-4X"
   },
   "source": [
    "#### Ukázka #04"
   ]
  },
  {
   "cell_type": "code",
   "execution_count": null,
   "metadata": {
    "colab": {
     "base_uri": "https://localhost:8080/"
    },
    "executionInfo": {
     "elapsed": 464,
     "status": "ok",
     "timestamp": 1666099736536,
     "user": {
      "displayName": "Radim Jedlička",
      "userId": "11502208915568361358"
     },
     "user_tz": -120
    },
    "id": "oTMcHKUpa-4Y",
    "outputId": "22aceed0-2034-4429-fce8-540dee5a765c"
   },
   "outputs": [],
   "source": [
    "for cislo in range(0, 10):\n",
    "    if cislo == 9:\n",
    "        cislo = 0\n",
    "    print(cislo)"
   ]
  },
  {
   "cell_type": "markdown",
   "metadata": {
    "id": "6jpnaFcwa-4Y"
   },
   "source": [
    "<details>\n",
    "  <summary>❓ Klikni zde pro vysvětlivky</summary>\n",
    "\n",
    "   \n",
    "Cyklus `for` pracuje s listem uvedeným výše podle indexů, ne podle hodnoty.\n",
    "```\n",
    "for cislo in [0, 1, 2, 3, 4, 5, 6, 7, 8, 9]:\n",
    "    if cislo == 9:\n",
    "        cislo = 0\n",
    "    print(f\"{cislo=}\")\n",
    "```\n",
    "\n",
    "</details>\n",
    "\n",
    "---"
   ]
  }
 ],
 "metadata": {
  "colab": {
   "provenance": []
  },
  "kernelspec": {
   "display_name": "Python 3 (ipykernel)",
   "language": "python",
   "name": "python3"
  },
  "language_info": {
   "codemirror_mode": {
    "name": "ipython",
    "version": 3
   },
   "file_extension": ".py",
   "mimetype": "text/x-python",
   "name": "python",
   "nbconvert_exporter": "python",
   "pygments_lexer": "ipython3",
   "version": "3.10.0"
  }
 },
 "nbformat": 4,
 "nbformat_minor": 1
}
