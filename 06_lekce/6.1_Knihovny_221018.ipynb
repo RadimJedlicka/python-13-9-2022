{
 "cells": [
  {
   "cell_type": "markdown",
   "metadata": {
    "id": "p3m_-7SeUkJ8"
   },
   "source": [
    "<h6 align=right>Python akademie - lekce 6 - 18.10.2022</h6>"
   ]
  },
  {
   "cell_type": "markdown",
   "metadata": {
    "id": "PcN12_E_UNxF"
   },
   "source": [
    "# <h1 align=center><font color=brown size=36><b> 📖 Knihovny</font></h1>\n",
    "\n",
    "---"
   ]
  },
  {
   "cell_type": "markdown",
   "metadata": {
    "id": "_FFoWZ9rUQno"
   },
   "source": [
    "* [Oficiální dokumentace Python knihoven](https://docs.python.org/3/library/index.html)\n",
    "* [Standartní instalátor balíčku pro Python pip (pypi.org)](https://pypi.org/project/pip/)\n",
    "* [Hledání modulu pomocí interpretu Pythonu (python.org)](https://docs.python.org/3/tutorial/modules.html#the-module-search-path)\n",
    "* [Neoficiální dokumentace o účelu souboru \\_\\_init\\_\\_.py](https://yasoob.me/2013/07/28/what-is-__init__-py/)\n",
    "* [Jak nainstalovat knihovny třetích stran pomocí Pycharm (jetbrains.com)](https://www.jetbrains.com/help/pycharm/installing-uninstalling-and-upgrading-packages.html)\n",
    "* [Oficialní dokumentace modulu random (python.org)](https://docs.python.org/3/library/random.html)\n",
    "* [Oficialní dokumentace modulu datetime (python.org)](https://docs.python.org/3/library/datetime.html)\n",
    "* [Oficialní dokumentace modulu os (python.org)](https://docs.python.org/3/library/os.html)\n",
    "\n",
    "<br>\n",
    "\n",
    "---"
   ]
  },
  {
   "cell_type": "markdown",
   "metadata": {
    "id": "TObDnQx1YgfN"
   },
   "source": [
    "<br>\n",
    "\n",
    "Jak bylo řečeno úvodem, základní tři pilíře pro moderní programovací jazyky jsou:\n",
    "\n",
    "1. **Syntaxe** (funkce, podmínky, smyčky, aj.)\n",
    "2. **Datové typy** (čísla, sekvence, aj.)\n",
    "3. **Knihovny** (decimal, aj.)\n",
    "\n",
    "<br>\n",
    "\n",
    "Importování je v podstatě proces, kdy do svého aktuálního souboru `py` nahrajeme obsah z druhého soubor `py`.\n",
    "\n",
    "<br>\n",
    "\n",
    "---"
   ]
  },
  {
   "cell_type": "markdown",
   "metadata": {
    "id": "5Cc5REHS70a9"
   },
   "source": [
    "### **Zápis:**\n",
    "\n",
    "```python\n",
    "import modul\n",
    "\n",
    "from modul import another_module/variable\n",
    "\n",
    "from modul import *\n",
    "\n",
    "from modul import another_module/variable as am\n",
    "```"
   ]
  },
  {
   "cell_type": "markdown",
   "metadata": {
    "id": "I8bDcjRh7r80"
   },
   "source": [
    "<br>\n",
    "\n",
    "# <font color=brown> ▶ **Importování souborů** \n",
    "\n",
    "---\n"
   ]
  },
  {
   "cell_type": "code",
   "execution_count": null,
   "metadata": {},
   "outputs": [],
   "source": [
    "import filmy"
   ]
  },
  {
   "cell_type": "code",
   "execution_count": null,
   "metadata": {
    "scrolled": true
   },
   "outputs": [],
   "source": [
    "print(filmy)"
   ]
  },
  {
   "cell_type": "code",
   "execution_count": null,
   "metadata": {},
   "outputs": [],
   "source": [
    "print(filmy.akcni)"
   ]
  },
  {
   "cell_type": "code",
   "execution_count": null,
   "metadata": {},
   "outputs": [],
   "source": [
    "from filmy import scifi"
   ]
  },
  {
   "cell_type": "code",
   "execution_count": null,
   "metadata": {
    "scrolled": true
   },
   "outputs": [],
   "source": [
    "print(scifi)"
   ]
  },
  {
   "cell_type": "code",
   "execution_count": null,
   "metadata": {},
   "outputs": [],
   "source": [
    "print(scifi['Star Wars'])"
   ]
  },
  {
   "cell_type": "code",
   "execution_count": null,
   "metadata": {},
   "outputs": [],
   "source": [
    "from filmy import scifi, komedie"
   ]
  },
  {
   "cell_type": "code",
   "execution_count": null,
   "metadata": {
    "scrolled": true
   },
   "outputs": [],
   "source": [
    "print(komedie)"
   ]
  },
  {
   "cell_type": "code",
   "execution_count": null,
   "metadata": {},
   "outputs": [],
   "source": [
    "import filmy\n",
    "from filmy import *"
   ]
  },
  {
   "cell_type": "code",
   "execution_count": null,
   "metadata": {},
   "outputs": [],
   "source": [
    "import nesmyslne_dlouhe_jmeno as ndj"
   ]
  },
  {
   "cell_type": "code",
   "execution_count": null,
   "metadata": {},
   "outputs": [],
   "source": [
    "print(ndj.akcni)"
   ]
  },
  {
   "cell_type": "markdown",
   "metadata": {
    "id": "L54ThOxDI8zo"
   },
   "source": [
    "<br>\n",
    "\n",
    "# <font color=brown> ▶ **Importování knihoven** \n",
    "\n",
    "---\n"
   ]
  },
  {
   "cell_type": "markdown",
   "metadata": {
    "id": "zy7-BBylqUa2"
   },
   "source": [
    "* [Oficiální dokumentace Python knihoven](https://docs.python.org/3/library/index.html)"
   ]
  },
  {
   "cell_type": "markdown",
   "metadata": {
    "id": "b7wN76cdJDIn"
   },
   "source": [
    "<br>\n",
    "\n",
    "## <font color=brown><b> pprint  (Pretty Printer)"
   ]
  },
  {
   "cell_type": "code",
   "execution_count": null,
   "metadata": {},
   "outputs": [],
   "source": [
    "import pprint"
   ]
  },
  {
   "cell_type": "code",
   "execution_count": null,
   "metadata": {},
   "outputs": [],
   "source": [
    "pprint.pprint(scifi)"
   ]
  },
  {
   "cell_type": "markdown",
   "metadata": {
    "id": "5Y6KGaCVuQ_6"
   },
   "source": [
    "<br>\n",
    "\n",
    "## <font color=brown><b> datetime"
   ]
  },
  {
   "cell_type": "code",
   "execution_count": null,
   "metadata": {},
   "outputs": [],
   "source": [
    "import datetime"
   ]
  },
  {
   "cell_type": "code",
   "execution_count": null,
   "metadata": {},
   "outputs": [],
   "source": [
    "datetime.datetime.now()"
   ]
  },
  {
   "cell_type": "code",
   "execution_count": null,
   "metadata": {},
   "outputs": [],
   "source": [
    "print(datetime.datetime.now())"
   ]
  },
  {
   "cell_type": "code",
   "execution_count": null,
   "metadata": {},
   "outputs": [],
   "source": [
    "ted = datetime.datetime.now()"
   ]
  },
  {
   "cell_type": "code",
   "execution_count": null,
   "metadata": {},
   "outputs": [],
   "source": [
    "print(ted)"
   ]
  },
  {
   "cell_type": "code",
   "execution_count": null,
   "metadata": {},
   "outputs": [],
   "source": [
    "print(ted.year)"
   ]
  },
  {
   "cell_type": "code",
   "execution_count": null,
   "metadata": {},
   "outputs": [],
   "source": [
    "print(ted.day)"
   ]
  },
  {
   "cell_type": "code",
   "execution_count": null,
   "metadata": {},
   "outputs": [],
   "source": [
    "print(ted.strftime('%a'))"
   ]
  },
  {
   "cell_type": "markdown",
   "metadata": {},
   "source": [
    "18.10.2022 19:15:06"
   ]
  },
  {
   "cell_type": "code",
   "execution_count": null,
   "metadata": {},
   "outputs": [],
   "source": [
    "print(ted.strftime('%d.%m.%Y %H:%M:%S'))"
   ]
  },
  {
   "cell_type": "code",
   "execution_count": null,
   "metadata": {},
   "outputs": [],
   "source": [
    "print(ted.strftime('%d.%m.%y %H:%M:%S'))"
   ]
  },
  {
   "cell_type": "markdown",
   "metadata": {
    "id": "Il_g3G5dwOlL"
   },
   "source": [
    "<br>\n",
    "\n",
    "## <font color=brown><b> random"
   ]
  },
  {
   "cell_type": "code",
   "execution_count": null,
   "metadata": {},
   "outputs": [],
   "source": [
    "import random"
   ]
  },
  {
   "cell_type": "code",
   "execution_count": null,
   "metadata": {},
   "outputs": [],
   "source": [
    "balik = [cislo for cislo in range(1, 25)]\n",
    "balik"
   ]
  },
  {
   "cell_type": "code",
   "execution_count": null,
   "metadata": {},
   "outputs": [],
   "source": [
    "random.randint(1, 25)"
   ]
  },
  {
   "cell_type": "code",
   "execution_count": null,
   "metadata": {},
   "outputs": [],
   "source": [
    "random.choice(balik)"
   ]
  },
  {
   "cell_type": "code",
   "execution_count": null,
   "metadata": {},
   "outputs": [],
   "source": [
    "random.seed(1)\n",
    "random.choice(balik)"
   ]
  },
  {
   "cell_type": "code",
   "execution_count": null,
   "metadata": {},
   "outputs": [],
   "source": [
    "random.sample(balik, 5)"
   ]
  },
  {
   "cell_type": "code",
   "execution_count": null,
   "metadata": {},
   "outputs": [],
   "source": [
    "random.random()"
   ]
  },
  {
   "cell_type": "code",
   "execution_count": null,
   "metadata": {},
   "outputs": [],
   "source": [
    "balik"
   ]
  },
  {
   "cell_type": "code",
   "execution_count": null,
   "metadata": {},
   "outputs": [],
   "source": [
    "balik\n",
    "random.shuffle(balik)\n",
    "balik"
   ]
  },
  {
   "cell_type": "markdown",
   "metadata": {
    "id": "DIv8kE5dwVxn"
   },
   "source": [
    "<br>\n",
    "\n",
    "## <font color=brown><b> 🐼 pandas"
   ]
  },
  {
   "cell_type": "markdown",
   "metadata": {},
   "source": [
    "Pandas je knihovna třetích stran, tudíž si ji musíme nainstalovat. Pokud ale máte pythonovskou distribuci Ananconda, tak ta už knihovnu pandas obsahuje, čili pro vás instalace odpadá. "
   ]
  },
  {
   "cell_type": "code",
   "execution_count": null,
   "metadata": {},
   "outputs": [],
   "source": [
    "# instalace pandas v Jupyter Notebooku nebo Google Colab\n",
    "# při instalaci přes příkazový řádek vynecháme úvodní znak \"!\"\n",
    "!pip install pandas"
   ]
  },
  {
   "cell_type": "code",
   "execution_count": null,
   "metadata": {},
   "outputs": [],
   "source": [
    "import pandas as pd"
   ]
  },
  {
   "cell_type": "code",
   "execution_count": null,
   "metadata": {},
   "outputs": [],
   "source": [
    "df = pd.read_csv('kilometry.csv', delimiter='\\t')"
   ]
  },
  {
   "cell_type": "code",
   "execution_count": null,
   "metadata": {},
   "outputs": [],
   "source": [
    "df"
   ]
  },
  {
   "cell_type": "markdown",
   "metadata": {
    "id": "OlLjRRTjQPV8"
   },
   "source": [
    "<br>\n",
    "\n",
    "## <font color=brown><b> 📊 altair"
   ]
  },
  {
   "cell_type": "markdown",
   "metadata": {},
   "source": [
    "Altair je také knihovna třetích stran, čili postup případné instalace je stejný jako pro pandas"
   ]
  },
  {
   "cell_type": "code",
   "execution_count": null,
   "metadata": {},
   "outputs": [],
   "source": [
    "import altair as alt"
   ]
  },
  {
   "cell_type": "code",
   "execution_count": null,
   "metadata": {},
   "outputs": [],
   "source": [
    "alt.Chart(df).mark_bar().encode(\n",
    "    x = 'mesic',\n",
    "    y = 'kilometry'\n",
    ")"
   ]
  },
  {
   "cell_type": "markdown",
   "metadata": {
    "id": "0BejGM-AOPPk"
   },
   "source": [
    "<br>\n",
    "\n",
    "# <font color=brown> ▶ **Instalování knihoven** \n",
    "\n",
    "---\n",
    "\n"
   ]
  },
  {
   "cell_type": "markdown",
   "metadata": {},
   "source": [
    "Pomocí příkazu 'pip'. (což je vlastně modul pythonu, který nám umožňuje stahovat a instalovat knihovny třetích stran)"
   ]
  },
  {
   "cell_type": "markdown",
   "metadata": {
    "id": "31WqUEyw1XdG"
   },
   "source": [
    "```python\n",
    "!pip install 'jmeno-knihovny'\n",
    "```"
   ]
  }
 ],
 "metadata": {
  "colab": {
   "authorship_tag": "ABX9TyMomigDxYJoqycDhWa3jAi8",
   "provenance": []
  },
  "kernelspec": {
   "display_name": "Python 3 (ipykernel)",
   "language": "python",
   "name": "python3"
  },
  "language_info": {
   "codemirror_mode": {
    "name": "ipython",
    "version": 3
   },
   "file_extension": ".py",
   "mimetype": "text/x-python",
   "name": "python",
   "nbconvert_exporter": "python",
   "pygments_lexer": "ipython3",
   "version": "3.10.0"
  }
 },
 "nbformat": 4,
 "nbformat_minor": 1
}
